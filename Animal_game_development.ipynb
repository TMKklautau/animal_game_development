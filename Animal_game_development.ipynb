{
 "cells": [
  {
   "cell_type": "markdown",
   "metadata": {},
   "source": [
    "# Making an simple akinator clone"
   ]
  },
  {
   "cell_type": "markdown",
   "metadata": {},
   "source": [
    "This project started as a interview test for a position as a java programmer, after quick running and decompiling the .jar file given as an example I tought it would be a good exercise for Python, as you would in the end have a program that is suited to be a first pandas dataframe example.\n",
    "\n",
    "Having little time to work on it and wanting to pratice my pandas skill I just pivoted it to a python project\\\n",
    "(and yes I intend to port it to java later for pratice, but tbh I'm focusing more on data analysis, so Python it is, for now)\n",
    "\n",
    "The first thing before getting to the python code is understanding the scope of the project, the jar file sent was a simple path Akinator clone for animals, decompiling it showed that the logic in itself was simple:\n",
    "\n",
    "This example code dissected on the first part is not made by me, was sent by e-mail to exemplify what the project was, it can be found on the example_project folder of the jupyterlab"
   ]
  },
  {
   "cell_type": "markdown",
   "metadata": {},
   "source": [
    "---\n",
    "# Dissecting the example code given\n",
    "---"
   ]
  },
  {
   "cell_type": "markdown",
   "metadata": {},
   "source": [
    "The example project contains 5 classes:\n",
    "\n",
    "- Logica (Logic)\n",
    "- Mensagem (Message)\n",
    "- Funcoes (Functions)\n",
    "- AnimalDAO (AnimalDataAccessObject)\n",
    "- Animal\n",
    "\n",
    "The Logic class has the main game loop and instantiates the other ones\n",
    "\n",
    "The Message class has the UI components\n",
    "\n",
    "The Functions class has 3 functions used on the Logic class\n",
    "\n",
    "The AnimalDAO is a class used to acess and hold the List of Animal objects used in the game.\n",
    "\n",
    "And the central piece to this code, the animal class:"
   ]
  },
  {
   "cell_type": "markdown",
   "metadata": {},
   "source": [
    "## The animal class:\n",
    "\n",
    "#### The class variables:\n",
    "\n",
    "Every animal registered was an object of a simple Animal class that has:\n",
    "\n",
    "\n",
    "    public class Animal\n",
    "    {\n",
    "       private Integer id;\n",
    "       private String caracteristica;\n",
    "       private String respostaSim;\n",
    "       private String respostaNao;\n",
    "       private Integer idPai;\n",
    "       private Integer filhoDaResposta;\n",
    "    ...\n",
    "\n",
    "- id (int) who saves the index in the list that contains all animals objects,\n",
    "- characteristic (caracteristica) (string) who is the base of the yes or no question associated with this object to the user, \n",
    "- 2 animals as answers to the characteristic question (respostaSim, respostaNao) (string) one for each response,\n",
    "- (int) idFather (idPai) who holds the index of this object father on an strange binary search tree (latter will explain the implementation),\n",
    "- (int) childOfAnswer (filhoDaResposta) who holds the path to get to this object from it's father (0/1, left/right, yes/no)\n",
    "\n",
    "#### Understanding how the class works:\n",
    "\n",
    "At first glance this looks like a node of a binary search tree, and it works like a binary search tree when you run the game, but the implementation takes a turn, instead of referencing the children, the only reference a node holds is of his parent and the decision from then to get to it.\\\n",
    "So in the end accessing a child directly is impossible the only way is searching the List present in AnimalDAO passing it, the index of the father node, and the path (0/1) that takes to that child, if the node is a leaf then you must need to search every single element to finaly get that information.\\\n",
    "When the active node is a leaf on the path chosen by the player a prompt with the animal saved on the respostaSim or respostaNao (1/0 paths) is presented to the player as his animal, if the player confirms the game ends, if he denies he then has a chance to add his chosen animal and a question that is used to define it, growing the tree.\\\n",
    "The new node is created as a child of the last node, his 'respostaXXX' variable on the path chosen is set to the new animal, and the variable of the oposite path is set as the animal denied. \n",
    "\n",
    "After understanding this bizarre search system for a simple binary tree the rest of the code was easy to follow."
   ]
  },
  {
   "cell_type": "markdown",
   "metadata": {},
   "source": [
    "---\n",
    "# The example code works. But how can it be better?\n",
    "---"
   ]
  },
  {
   "cell_type": "markdown",
   "metadata": {},
   "source": [
    "When playing and dissecting the example I noticed this 2 shortcomings:\n",
    "\n",
    "1. The game does not try to awnser with the lowest amount of questions\n",
    "2. The game has no persistent memory\n",
    "\n",
    "So for my implementation I put the following users requests:\n",
    "\n",
    "- The game should be optimized so it tries to get the chosen animal in the least possible number of questions, and has to get there logically\n",
    "- the game needs a persistent memory, so the game state needs to be saved before the game quits\n",
    "\n",
    "And for myself the following restrictions where added:\\\n",
    "(as I'm doing this project to exercise)\n",
    "\n",
    "- The code must accept new UI and Data managers:\\\n",
    "but the first UI module needs to be on command line (to be played here on this jupyter notebook)\\\n",
    "and the first Data must be CSV files (to be used for a future data analysis and ML project I have in mind)\n",
    "\n",
    "With this rules we can begin showing the project, but first..."
   ]
  },
  {
   "cell_type": "markdown",
   "metadata": {},
   "source": [
    "---\n",
    "# Playing the game yourself\n",
    "---"
   ]
  },
  {
   "cell_type": "markdown",
   "metadata": {},
   "source": [
    "Bellow there is 2 code blocks, the first sets the kernel to the folder where we can run the script, and the second runs the game script\n",
    "\n",
    "If you are new to jupyter notebooks:\\\n",
    "to run the blocks just select then (with the directional arrows on the keyboard, or clicking with the mouse) and press Ctrl+Enter"
   ]
  },
  {
   "cell_type": "code",
   "execution_count": null,
   "metadata": {},
   "outputs": [],
   "source": [
    "import os\n",
    "os.chdir('./animal_game')"
   ]
  },
  {
   "cell_type": "code",
   "execution_count": null,
   "metadata": {},
   "outputs": [],
   "source": [
    "%run animal_game"
   ]
  }
 ],
 "metadata": {
  "kernelspec": {
   "display_name": "Python 3",
   "language": "python",
   "name": "python3"
  },
  "language_info": {
   "codemirror_mode": {
    "name": "ipython",
    "version": 3
   },
   "file_extension": ".py",
   "mimetype": "text/x-python",
   "name": "python",
   "nbconvert_exporter": "python",
   "pygments_lexer": "ipython3",
   "version": "3.6.9"
  }
 },
 "nbformat": 4,
 "nbformat_minor": 4
}
