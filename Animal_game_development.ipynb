{
 "cells": [
  {
   "cell_type": "markdown",
   "metadata": {},
   "source": [
    "# Making an simple akinator clone"
   ]
  },
  {
   "cell_type": "markdown",
   "metadata": {},
   "source": [
    "This project started as a interview test for a position as a java programmer, after quick running and decompiling the .jar file given as an example I tought it would be a good exercise for Python, as you would in the end have a program that is suited to be a first pandas dataframe example.\n",
    "\n",
    "Having little time to work on it and wanting to pratice my pandas skill I just pivoted it to a python project\\\n",
    "(and yes I intend to port it to java later for pratice, but tbh I'm focusing more on data analysis, so Python it is, for now)\n",
    "\n",
    "The first thing before getting to the python code is understanding the scope of the project, the jar file sent was a simple path Akinator clone for animals, decompiling it showed that the logic in itself was simple:\n",
    "\n",
    "This example code dissected on the first part is not made by me, was sent by e-mail to exemplify what the project was, it can be found on the example_project folder of the jupyterlab"
   ]
  },
  {
   "cell_type": "markdown",
   "metadata": {},
   "source": [
    "---\n",
    "# Dissecting the example code given\n",
    "---"
   ]
  },
  {
   "cell_type": "markdown",
   "metadata": {},
   "source": [
    "The example project contains 5 classes:\n",
    "\n",
    "- Logica (Logic)\n",
    "- Mensagem (Message)\n",
    "- Funcoes (Functions)\n",
    "- AnimalDAO (AnimalDataAccessObject)\n",
    "- Animal\n",
    "\n",
    "The Logic class has the main game loop and instantiates the other ones\n",
    "\n",
    "The Message class has the UI components\n",
    "\n",
    "The Functions class has 3 functions used on the Logic class\n",
    "\n",
    "The AnimalDAO is a class used to acess and hold the List of Animal objects used in the game.\n",
    "\n",
    "And the central piece to this code, the animal class:"
   ]
  },
  {
   "cell_type": "markdown",
   "metadata": {},
   "source": [
    "## The animal class:\n",
    "\n",
    "#### The class variables:\n",
    "\n",
    "Every animal registered was an object of a simple Animal class that has:\n",
    "\n",
    "\n",
    "    public class Animal\n",
    "    {\n",
    "       private Integer id;\n",
    "       private String caracteristica;\n",
    "       private String respostaSim;\n",
    "       private String respostaNao;\n",
    "       private Integer idPai;\n",
    "       private Integer filhoDaResposta;\n",
    "    ...\n",
    "\n",
    "- id (int) who saves the index in the list that contains all animals objects,\n",
    "- characteristic (caracteristica) (string) who is the base of the yes or no question associated with this object to the user, \n",
    "- 2 animals as answers to the characteristic question (respostaSim, respostaNao) (string) one for each response,\n",
    "- (int) idFather (idPai) who holds the index of this object father on an strange binary search tree (latter will explain the implementation),\n",
    "- (int) childOfAnswer (filhoDaResposta) who holds the path to get to this object from it's father (0/1, left/right, yes/no)\n",
    "\n",
    "#### Understanding how the class works:\n",
    "\n",
    "At first glance this looks like a node of a binary search tree, and it works like a binary search tree when you run the game, but the implementation takes a turn, instead of referencing the children, the only reference a node holds is of his parent and the decision from then to get to it.\\\n",
    "So in the end accessing a child directly is impossible the only way is searching the List present in AnimalDAO passing it, the index of the father node, and the path (0/1) that takes to that child, if the node is a leaf then you must need to search every single element to finaly get that information.\\\n",
    "When the active node is a leaf on the path chosen by the player a prompt with the animal saved on the respostaSim or respostaNao (1/0 paths) is presented to the player as his animal, if the player confirms the game ends, if he denies he then has a chance to add his chosen animal and a question that is used to define it, growing the tree.\\\n",
    "The new node is created as a child of the last node, his 'respostaXXX' variable on the path chosen is set to the new animal, and the variable of the oposite path is set as the animal denied. \n",
    "\n",
    "After understanding this unorthodox search system for a simple binary tree the rest of the code was easy to follow."
   ]
  },
  {
   "cell_type": "markdown",
   "metadata": {},
   "source": [
    "---\n",
    "# The example code works. But how can it be better?\n",
    "---"
   ]
  },
  {
   "cell_type": "markdown",
   "metadata": {},
   "source": [
    "When playing and dissecting the example I noticed this 2 shortcomings:\n",
    "\n",
    "1. The game does not try to awnser with the lowest amount of questions\n",
    "2. The game has no persistent memory\n",
    "\n",
    "So for my implementation I put the following users requests:\n",
    "\n",
    "- The game should be optimized so it tries to get the chosen animal in the least possible number of questions, \\\n",
    "- the game has only one shot, so it only tries when enough information for a confident one is presented\n",
    "- the game needs a persistent memory, so the game state needs to be saved before the game quits\n",
    "\n",
    "And for myself the following restrictions where added:\\\n",
    "(as I'm doing this project to exercise)\n",
    "\n",
    "- The code must accept new UI and Data managers:\\\n",
    "but the first UI module needs to be on command line (to be played here on this jupyter notebook)\\\n",
    "and the first Data must be CSV files (to be used for a future data analysis and ML project I have in mind)\n",
    "\n",
    "With this rules we can begin showing the project, but first..."
   ]
  },
  {
   "cell_type": "markdown",
   "metadata": {},
   "source": [
    "---\n",
    "# Playing the game yourself\n",
    "---"
   ]
  },
  {
   "cell_type": "markdown",
   "metadata": {},
   "source": [
    "Below is a code block who will run the game if you are acessing this notebook in a interactive viewer\n",
    "\n",
    "If you are new to jupyter notebooks:\\\n",
    "to run the block just select it(with the directional arrows on the keyboard, or clicking with the mouse) and press Ctrl+Enter\n",
    "\n",
    "giving q as any input will end the game"
   ]
  },
  {
   "cell_type": "code",
   "execution_count": 1,
   "metadata": {},
   "outputs": [
    {
     "name": "stdout",
     "output_type": "stream",
     "text": [
      "------------------------\n",
      "Think of an animal, then judge the facts about it with yes or no:\n",
      "------------------------\n",
      "Your animal is a mammal. (y/n)\n"
     ]
    },
    {
     "name": "stdin",
     "output_type": "stream",
     "text": [
      " y\n"
     ]
    },
    {
     "name": "stdout",
     "output_type": "stream",
     "text": [
      "------------------------\n",
      "Your animal survives outside of water. (y/n)\n"
     ]
    },
    {
     "name": "stdin",
     "output_type": "stream",
     "text": [
      " n\n"
     ]
    },
    {
     "name": "stdout",
     "output_type": "stream",
     "text": [
      "------------------------\n",
      "Your animal has stripes. (y/n)\n"
     ]
    },
    {
     "name": "stdin",
     "output_type": "stream",
     "text": [
      " n\n"
     ]
    },
    {
     "name": "stdout",
     "output_type": "stream",
     "text": [
      "------------------------\n",
      "Is the animal a whale? (y/n)\n"
     ]
    },
    {
     "name": "stdin",
     "output_type": "stream",
     "text": [
      " y\n"
     ]
    }
   ],
   "source": [
    "%run ./animal_game/animal_game"
   ]
  },
  {
   "cell_type": "markdown",
   "metadata": {},
   "source": [
    "---\n",
    "# The game code\n",
    "---"
   ]
  },
  {
   "cell_type": "markdown",
   "metadata": {},
   "source": [
    "The game code can be found in the animal_game folder on this project [github](https://github.com/TMKlautau/animal_game_development) or jupyter lab hosted on [binder](https://mybinder.org/v2/gh/TMKlautau/animal_game_development/master), feel free to use any part of it\n",
    "\n",
    "[![Binder](https://mybinder.org/badge_logo.svg)](https://mybinder.org/v2/gh/TMKlautau/animal_game_development/master)\n",
    "\n",
    "To start we first need to import the game modules into our python console, this gives us easy acess to the modules and the helpful acess to the docs using the help function\n",
    "\n",
    "(remember to run the code in its intended order)"
   ]
  },
  {
   "cell_type": "code",
   "execution_count": 2,
   "metadata": {},
   "outputs": [],
   "source": [
    "from animal_game import animal_game"
   ]
  },
  {
   "cell_type": "markdown",
   "metadata": {},
   "source": [
    "In itself the code is simple, but to start we first need to specify the command lines arguments that can be passed and what they do, to do this why not just see the help for the module?"
   ]
  },
  {
   "cell_type": "code",
   "execution_count": 3,
   "metadata": {},
   "outputs": [
    {
     "name": "stdout",
     "output_type": "stream",
     "text": [
      "Help on module animal_game.animal_game in animal_game:\n",
      "\n",
      "NAME\n",
      "    animal_game.animal_game\n",
      "\n",
      "FUNCTIONS\n",
      "    main(args)\n",
      "        Script entry point for the animal game\n",
      "        \n",
      "        Defined args:\n",
      "        \n",
      "        -uw : (update weights) recalculates the weights of the questions and sort the optimal question order for the first question\n",
      "        -rnd : (randomize questions) randomizes the questions order, used to train questions with low percent of data\n",
      "                and making the game non-linear after a database is optimized\n",
      "        -pd : (print data) debug function to print the dataframes on the console, best used for small dataframes, for big ones the best is to acess it directly\n",
      "        -sg : (skip game) used to perform the actions passed on the other arguments without starting the game after\n",
      "\n",
      "FILE\n",
      "    /home/tmk/Desktop/animal_game_development/animal_game/animal_game.py\n",
      "\n",
      "\n"
     ]
    }
   ],
   "source": [
    "help(animal_game)"
   ]
  },
  {
   "cell_type": "markdown",
   "metadata": {},
   "source": [
    "The entry point for the script just instantiates an Ui, Data and Logic modules, parses the command line arguments, and then starts the execution using the start_execution funcion on the logic module (who would saw this coming?)"
   ]
  },
  {
   "cell_type": "markdown",
   "metadata": {},
   "source": [
    "## The UI module:\n",
    "\n",
    "The Ui module is a simple base class delimiting the functions that modules need to implement, and the only implemented Ui module until now (the command line one)\n",
    "\n",
    "below is the help page for it, I will not go into detail on it as its a simple self explanatory module."
   ]
  },
  {
   "cell_type": "code",
   "execution_count": 4,
   "metadata": {},
   "outputs": [
    {
     "name": "stdout",
     "output_type": "stream",
     "text": [
      "Help on class Ui_module in module ui:\n",
      "\n",
      "class Ui_module(builtins.object)\n",
      " |  Base UI class\n",
      " |  \n",
      " |  Methods defined here:\n",
      " |  \n",
      " |  __init__(self)\n",
      " |      Initialize self.  See help(type(self)) for accurate signature.\n",
      " |  \n",
      " |  get_delimited_input_with_text(self, text:str, values:tuple) -> str\n",
      " |      Present text to user and waits for a delimited input\n",
      " |      \n",
      " |      Args:\n",
      " |          text (str): the text to be presented\n",
      " |          values (tuple): tuple of values accepted as input\n",
      " |      \n",
      " |      Returns:\n",
      " |          str: input from user\n",
      " |  \n",
      " |  get_free_input_with_text(self, text:str) -> str\n",
      " |      Present text to user and receive input\n",
      " |      \n",
      " |      Args:\n",
      " |          text (str): the text to be presented\n",
      " |      \n",
      " |      Returns:\n",
      " |          str: input from user\n",
      " |  \n",
      " |  get_str_input(self) -> str\n",
      " |      Receive input from user on the str format without presenting a text\n",
      " |      \n",
      " |      Returns:\n",
      " |          str: input from user\n",
      " |  \n",
      " |  present_text(self, text:str)\n",
      " |      Present text to user without receiving input\n",
      " |      \n",
      " |      Args:\n",
      " |          text (str): the text to be presented\n",
      " |  \n",
      " |  ----------------------------------------------------------------------\n",
      " |  Data descriptors defined here:\n",
      " |  \n",
      " |  __dict__\n",
      " |      dictionary for instance variables (if defined)\n",
      " |  \n",
      " |  __weakref__\n",
      " |      list of weak references to the object (if defined)\n",
      " |  \n",
      " |  ----------------------------------------------------------------------\n",
      " |  Data and other attributes defined here:\n",
      " |  \n",
      " |  __annotations__ = {'mdl_type': <class 'str'>}\n",
      " |  \n",
      " |  mdl_type = 'base'\n",
      "\n"
     ]
    }
   ],
   "source": [
    "help(ui.Ui_module)"
   ]
  },
  {
   "cell_type": "markdown",
   "metadata": {},
   "source": [
    "## The Data module:\n",
    "\n",
    "The Data module implements the persistent memory of the game, and sets a layer of abstraction on some game logic that is dependent on the data storage method, so the logic module can work with any given type of storage just passing that type module subclass into it's constructor.\n",
    "\n",
    "And here is the call to his help page:"
   ]
  },
  {
   "cell_type": "code",
   "execution_count": 5,
   "metadata": {},
   "outputs": [
    {
     "name": "stdout",
     "output_type": "stream",
     "text": [
      "Help on class Data_module in module data:\n",
      "\n",
      "class Data_module(builtins.object)\n",
      " |  Base data manipulation module\n",
      " |  \n",
      " |  Methods defined here:\n",
      " |  \n",
      " |  __init__(self)\n",
      " |      Initialize self.  See help(type(self)) for accurate signature.\n",
      " |  \n",
      " |  add_animal_with_dict(self, animal_data:dict)\n",
      " |      Adds an animal with the data passed on the dict (name obrigatory)\n",
      " |      \n",
      " |      Args:\n",
      " |          animal_data (dict): data of the animal to add\n",
      " |  \n",
      " |  add_question_with_text(self, text:str) -> str\n",
      " |      Adds a question with the text passed\n",
      " |      \n",
      " |      Args:\n",
      " |          text (str): text of the question to be added\n",
      " |  \n",
      " |  calculate_questions_weights(self)\n",
      " |      Changes the order of the questions using a weight system\n",
      " |      (the weight is the percent of animals with data times the difference between the 2 options, so weight correlates with the number of removed options if a question is presented)\n",
      " |  \n",
      " |  check_only_one_valid_animal_by_question_index(self, question_index:int) -> (<class 'int'>, <class 'str'>)\n",
      " |      Returns the number of animals with info on the question present on the state of the database\n",
      " |      \n",
      " |      Args:\n",
      " |          question_index (int): the index of the question to use\n",
      " |      \n",
      " |      Returns:\n",
      " |          int: the number of animals with info on the passed question present on the state of the database\n",
      " |          str: the name of the animal with info on the passed question (Returns None if no animal has info, or if there is more than 1 animal)\n",
      " |  \n",
      " |  get_number_of_questions(self) -> int\n",
      " |      Returns the number of questions present in the database\n",
      " |      \n",
      " |      Returns:\n",
      " |          int: the number of questions\n",
      " |  \n",
      " |  get_question_id_by_index(self, index:int) -> str\n",
      " |      Returns the id of the question associated with the passed index\n",
      " |      \n",
      " |      Args:\n",
      " |          index (int): index of the question to return the id\n",
      " |      \n",
      " |      Returns:\n",
      " |          str: id of the question requested\n",
      " |  \n",
      " |  get_question_text_by_index(self, index:int) -> str\n",
      " |      Returns the text of the question associated with the passed index\n",
      " |      \n",
      " |      Args:\n",
      " |          index (int): index of the question to return the text\n",
      " |      \n",
      " |      Returns:\n",
      " |          str: text of the question requested\n",
      " |  \n",
      " |  is_animal_present(self, name:str) -> bool\n",
      " |      Verifies if an animal's name is present on the database\n",
      " |      \n",
      " |      Args:\n",
      " |          name (str): the name to check\n",
      " |  \n",
      " |  randomize_questions(self)\n",
      " |      Changes the order of the questions randomly\n",
      " |  \n",
      " |  remove_animals_by_question_index_value(self, question_index:int, value:int)\n",
      " |      Removes all animals that have the value on the question (animals without information on the passed question will not be removed)\n",
      " |      \n",
      " |      Args:\n",
      " |          question_index (int): the index of the question to use\n",
      " |          value (int): the value to remove\n",
      " |  \n",
      " |  reset_animals_to_disk_version(self)\n",
      " |      Reloads the database part with animals with the version on persistent storage\n",
      " |  \n",
      " |  save_animals_to_disk(self)\n",
      " |      Saves the state of the loaded animals database to permanent storage\n",
      " |  \n",
      " |  save_questions_to_disk(self)\n",
      " |      Saves the state of the loaded questions database to permanent storage\n",
      " |  \n",
      " |  update_animal_with_dict(self, animal_data:dict)\n",
      " |      Updates the database with the animal with the info contained on the passed dict (name needed for on the passed dict for index)\n",
      " |      \n",
      " |      Args:\n",
      " |          animal_data (dict): data of the animal to update\n",
      " |  \n",
      " |  ----------------------------------------------------------------------\n",
      " |  Data descriptors defined here:\n",
      " |  \n",
      " |  __dict__\n",
      " |      dictionary for instance variables (if defined)\n",
      " |  \n",
      " |  __weakref__\n",
      " |      list of weak references to the object (if defined)\n",
      " |  \n",
      " |  ----------------------------------------------------------------------\n",
      " |  Data and other attributes defined here:\n",
      " |  \n",
      " |  __annotations__ = {'mdl_type': <class 'str'>}\n",
      " |  \n",
      " |  mdl_type = 'base'\n",
      "\n"
     ]
    }
   ],
   "source": [
    "help(data.Data_module)"
   ]
  },
  {
   "cell_type": "markdown",
   "metadata": {},
   "source": [
    "Like the Ui module, the Data only has one subclass module implemented at the moment, the Csv_data_module, who as the name suggests uses CSV files as the storage method.\n",
    "\n",
    "The module uses 2 tables who are stored on the './dataframes/csv' folder, one holds the animals informations, the other the questions.\\\n",
    "(still need to implement the binary tree to hold a better question order, when done will be 3 tables) \n",
    "\n",
    "To see them, first lets import pandas, then create a dataframe called questions_df and one called animals_df then print the heads:"
   ]
  },
  {
   "cell_type": "code",
   "execution_count": 6,
   "metadata": {},
   "outputs": [],
   "source": [
    "import pandas as pd"
   ]
  },
  {
   "cell_type": "code",
   "execution_count": 7,
   "metadata": {},
   "outputs": [
    {
     "data": {
      "text/html": [
       "<div>\n",
       "<style scoped>\n",
       "    .dataframe tbody tr th:only-of-type {\n",
       "        vertical-align: middle;\n",
       "    }\n",
       "\n",
       "    .dataframe tbody tr th {\n",
       "        vertical-align: top;\n",
       "    }\n",
       "\n",
       "    .dataframe thead th {\n",
       "        text-align: right;\n",
       "    }\n",
       "</style>\n",
       "<table border=\"1\" class=\"dataframe\">\n",
       "  <thead>\n",
       "    <tr style=\"text-align: right;\">\n",
       "      <th></th>\n",
       "      <th>id</th>\n",
       "      <th>text</th>\n",
       "      <th>order</th>\n",
       "      <th>weight</th>\n",
       "    </tr>\n",
       "  </thead>\n",
       "  <tbody>\n",
       "    <tr>\n",
       "      <th>0</th>\n",
       "      <td>q2</td>\n",
       "      <td>is a mammal</td>\n",
       "      <td>2</td>\n",
       "      <td>0.857143</td>\n",
       "    </tr>\n",
       "    <tr>\n",
       "      <th>1</th>\n",
       "      <td>q0</td>\n",
       "      <td>survives outside of water</td>\n",
       "      <td>0</td>\n",
       "      <td>0.476190</td>\n",
       "    </tr>\n",
       "    <tr>\n",
       "      <th>2</th>\n",
       "      <td>q5</td>\n",
       "      <td>has stripes</td>\n",
       "      <td>5</td>\n",
       "      <td>0.285714</td>\n",
       "    </tr>\n",
       "    <tr>\n",
       "      <th>3</th>\n",
       "      <td>q1</td>\n",
       "      <td>has a fin</td>\n",
       "      <td>1</td>\n",
       "      <td>0.285714</td>\n",
       "    </tr>\n",
       "    <tr>\n",
       "      <th>4</th>\n",
       "      <td>q3</td>\n",
       "      <td>is a reptile</td>\n",
       "      <td>3</td>\n",
       "      <td>0.285714</td>\n",
       "    </tr>\n",
       "  </tbody>\n",
       "</table>\n",
       "</div>"
      ],
      "text/plain": [
       "   id                       text  order    weight\n",
       "0  q2                is a mammal      2  0.857143\n",
       "1  q0  survives outside of water      0  0.476190\n",
       "2  q5                has stripes      5  0.285714\n",
       "3  q1                  has a fin      1  0.285714\n",
       "4  q3               is a reptile      3  0.285714"
      ]
     },
     "metadata": {},
     "output_type": "display_data"
    },
    {
     "data": {
      "text/html": [
       "<div>\n",
       "<style scoped>\n",
       "    .dataframe tbody tr th:only-of-type {\n",
       "        vertical-align: middle;\n",
       "    }\n",
       "\n",
       "    .dataframe tbody tr th {\n",
       "        vertical-align: top;\n",
       "    }\n",
       "\n",
       "    .dataframe thead th {\n",
       "        text-align: right;\n",
       "    }\n",
       "</style>\n",
       "<table border=\"1\" class=\"dataframe\">\n",
       "  <thead>\n",
       "    <tr style=\"text-align: right;\">\n",
       "      <th></th>\n",
       "      <th>name</th>\n",
       "      <th>q0</th>\n",
       "      <th>q1</th>\n",
       "      <th>q2</th>\n",
       "      <th>q3</th>\n",
       "      <th>q4</th>\n",
       "      <th>q5</th>\n",
       "      <th>q6</th>\n",
       "      <th>q7</th>\n",
       "      <th>q8</th>\n",
       "    </tr>\n",
       "  </thead>\n",
       "  <tbody>\n",
       "    <tr>\n",
       "      <th>0</th>\n",
       "      <td>shark</td>\n",
       "      <td>0.0</td>\n",
       "      <td>1.0</td>\n",
       "      <td>1.0</td>\n",
       "      <td>0.0</td>\n",
       "      <td>NaN</td>\n",
       "      <td>NaN</td>\n",
       "      <td>NaN</td>\n",
       "      <td>NaN</td>\n",
       "      <td>NaN</td>\n",
       "    </tr>\n",
       "    <tr>\n",
       "      <th>1</th>\n",
       "      <td>monkey</td>\n",
       "      <td>1.0</td>\n",
       "      <td>0.0</td>\n",
       "      <td>1.0</td>\n",
       "      <td>0.0</td>\n",
       "      <td>0.0</td>\n",
       "      <td>0.0</td>\n",
       "      <td>0.0</td>\n",
       "      <td>NaN</td>\n",
       "      <td>NaN</td>\n",
       "    </tr>\n",
       "    <tr>\n",
       "      <th>2</th>\n",
       "      <td>whale</td>\n",
       "      <td>0.0</td>\n",
       "      <td>1.0</td>\n",
       "      <td>1.0</td>\n",
       "      <td>0.0</td>\n",
       "      <td>1.0</td>\n",
       "      <td>0.0</td>\n",
       "      <td>NaN</td>\n",
       "      <td>NaN</td>\n",
       "      <td>NaN</td>\n",
       "    </tr>\n",
       "    <tr>\n",
       "      <th>3</th>\n",
       "      <td>barracuda</td>\n",
       "      <td>0.0</td>\n",
       "      <td>1.0</td>\n",
       "      <td>0.0</td>\n",
       "      <td>NaN</td>\n",
       "      <td>NaN</td>\n",
       "      <td>NaN</td>\n",
       "      <td>NaN</td>\n",
       "      <td>NaN</td>\n",
       "      <td>NaN</td>\n",
       "    </tr>\n",
       "    <tr>\n",
       "      <th>4</th>\n",
       "      <td>snake</td>\n",
       "      <td>1.0</td>\n",
       "      <td>0.0</td>\n",
       "      <td>0.0</td>\n",
       "      <td>1.0</td>\n",
       "      <td>0.0</td>\n",
       "      <td>0.0</td>\n",
       "      <td>0.0</td>\n",
       "      <td>1.0</td>\n",
       "      <td>NaN</td>\n",
       "    </tr>\n",
       "  </tbody>\n",
       "</table>\n",
       "</div>"
      ],
      "text/plain": [
       "        name   q0   q1   q2   q3   q4   q5   q6   q7  q8\n",
       "0      shark  0.0  1.0  1.0  0.0  NaN  NaN  NaN  NaN NaN\n",
       "1     monkey  1.0  0.0  1.0  0.0  0.0  0.0  0.0  NaN NaN\n",
       "2      whale  0.0  1.0  1.0  0.0  1.0  0.0  NaN  NaN NaN\n",
       "3  barracuda  0.0  1.0  0.0  NaN  NaN  NaN  NaN  NaN NaN\n",
       "4      snake  1.0  0.0  0.0  1.0  0.0  0.0  0.0  1.0 NaN"
      ]
     },
     "metadata": {},
     "output_type": "display_data"
    }
   ],
   "source": [
    "questions_df = pd.read_csv('./animal_game/dataframes/csv/questions.csv', index_col=0)\n",
    "animals_df = pd.read_csv('./animal_game/dataframes/csv/animals.csv', index_col=0)\n",
    "\n",
    "display(questions_df.head())\n",
    "display(animals_df.head())"
   ]
  },
  {
   "cell_type": "markdown",
   "metadata": {},
   "source": [
    "As you can see on the questions dataframe each one has:\n",
    "\n",
    "- id\\\n",
    "(used to correlate the question on the animals dataframe)\n",
    "- text\\\n",
    "(the question in itself, presented to the user)\n",
    "- order\\\n",
    "(the insertion order on the table, and the index is based on the weight)\n",
    "- weight\\\n",
    "(a simple weight sistem used to determine the next question to be presented to the user based on the actual dataframe snapshot)\n",
    "\n",
    "and the animals dataframe has:\n",
    "\n",
    "- name\\\n",
    "(name of the animal)\n",
    "- q0 : qX\\\n",
    "(data correlated as the answer to the question with the id equal to the name of the column, possible values are 0 for no, 1 for yes, and np.NaN for lack of info on that animal for that question)"
   ]
  },
  {
   "cell_type": "markdown",
   "metadata": {},
   "source": [
    "### Important methods:\n",
    "\n",
    "there is one method where its a good idea the explain the logic behind:\n",
    "\n",
    "#### calculate_questions_weights:\n",
    "Lets look at the help for it:"
   ]
  },
  {
   "cell_type": "code",
   "execution_count": 8,
   "metadata": {},
   "outputs": [
    {
     "name": "stdout",
     "output_type": "stream",
     "text": [
      "Help on function calculate_questions_weights in module data:\n",
      "\n",
      "calculate_questions_weights(self)\n",
      "    Changes the order of the questions using a weight system\n",
      "    (the weight is the percent of animals with data times the difference between the 2 options, so weight correlates with the number of removed options if a question is presented)\n",
      "\n"
     ]
    }
   ],
   "source": [
    "help(data.Data_module.calculate_questions_weights)"
   ]
  },
  {
   "cell_type": "markdown",
   "metadata": {},
   "source": [
    "and at his code:\n",
    "\n",
    "    def calculate_questions_weights(self):\n",
    "        for row in self._questions_df.index:\n",
    "            aux = self._animals_df.loc[:,self._questions_df.loc[row].id]\n",
    "            self._questions_df.loc[row,'weight'] = (1 - abs(len(aux.loc[aux == 1]) - len(aux.loc[aux == 0]))/len(aux.dropna())) * (len(aux.dropna())/len(aux))\n",
    "            self._questions_df = self._questions_df.sort_values('weight', ascending=False).reset_index(drop=True)\n",
    "            self.save_questions_to_disk()\n",
    "\n",
    "This method starts to resolve the first rule:\n",
    "\n",
    "- The game should be optimized so it tries to get the chosen animal in the least possible number of questions\n",
    "\n",
    "So the best course of action is to prioritize the questions who will invalidate the most animals in the database no matter the answer.\\\n",
    "With that in mind there are 2 proprieties on a question that should be used:\n",
    "\n",
    "1. the number of animals who it has information on\n",
    "2. how skewed it is to one of the answers\n",
    "\n",
    "The percentage of animals that has information on a question is easily calculated using:\n",
    "\n",
    "    (len(aux.dropna())/len(aux)\n",
    "    \n",
    "as it can be reached by dividing the number of non missing data on the question with the total number of animals on the database\n",
    "\n",
    "The second point can be measured with this bit of code:\n",
    "\n",
    "    (1 - abs(len(aux.loc[aux == 1]) - len(aux.loc[aux == 0]))/len(aux.dropna()))\n",
    "\n",
    "it represents the distance to a perfect balanced question (\"as all things should be\"), 1 represents the same number of animals have 'y' and 'n' as awnsers to it.\\\n",
    "as even if a heavily skewed question can pinpoint an animal with only one answer, most of the time it will only invalidate this one animal, and in a game of probability you dont put all your chips on a miracle."
   ]
  },
  {
   "cell_type": "markdown",
   "metadata": {},
   "source": [
    "## The Logic Module\n",
    "\n",
    "The Logic module implements the game logic, and again, lets start by having a look at his help page:"
   ]
  },
  {
   "cell_type": "code",
   "execution_count": 9,
   "metadata": {},
   "outputs": [
    {
     "name": "stdout",
     "output_type": "stream",
     "text": [
      "Help on class Logic_module in module logic:\n",
      "\n",
      "class Logic_module(builtins.object)\n",
      " |  logic components\n",
      " |  \n",
      " |  Methods defined here:\n",
      " |  \n",
      " |  __init__(self, ui_module:ui.Ui_module, data_module:data.Data_module)\n",
      " |      Initialize self.  See help(type(self)) for accurate signature.\n",
      " |  \n",
      " |  get_sup_modules_types(self)\n",
      " |      Resturn the suport modules types associated with the logic module\n",
      " |      \n",
      " |      Returns:\n",
      " |          tuple of str : contains id of the ui and data module\n",
      " |  \n",
      " |  start_execution(self)\n",
      " |      Starts the game execution\n",
      " |  \n",
      " |  ----------------------------------------------------------------------\n",
      " |  Data descriptors defined here:\n",
      " |  \n",
      " |  __dict__\n",
      " |      dictionary for instance variables (if defined)\n",
      " |  \n",
      " |  __weakref__\n",
      " |      list of weak references to the object (if defined)\n",
      "\n"
     ]
    }
   ],
   "source": [
    "help(logic.Logic_module)"
   ]
  },
  {
   "cell_type": "markdown",
   "metadata": {},
   "source": [
    "### Important methods:\n",
    "\n",
    "But this time to understand the Logic module we will have to go beyond the help page of the class, bcs the start_execution is an obfuscation of the 3 private methods that do the work, those are:\n",
    "\n",
    "- _discover_animal_with_simplified_order\n",
    "- _animal_not_found\n",
    "- _animal_found\n",
    "- _ambiguous_animal_found\n",
    "\n",
    "as a means to explain here I updated all 4 with docstrings (as private methods docstring aren't needed), and I'm not showing code, but fell free to look them up on the repository.\n",
    "\n",
    "#### _discover_animal_with_simplified_order\n",
    "\n",
    "Lets see his help page:"
   ]
  },
  {
   "cell_type": "code",
   "execution_count": 10,
   "metadata": {},
   "outputs": [
    {
     "name": "stdout",
     "output_type": "stream",
     "text": [
      "Help on function _discover_animal_with_simplified_order in module logic:\n",
      "\n",
      "_discover_animal_with_simplified_order(self) -> (<class 'str'>, <class 'dict'>, <class 'int'>)\n",
      "    Tries to discover the user's animal by process of elimination using a simplified ordering by weight\n",
      "    The ordering only uses the weights of the questions calculated using the full dataframe, so only the first question for sure at it's best position\n",
      "    \n",
      "    Returns:\n",
      "        str: the name of the animal chosen by the user, only returned if only one value with complete information is found at the end of the elimination process\n",
      "        dict: a dict with the mapping of values to questions id who set the dataframe to this position\n",
      "        int: the number of animals that the dataframe has complete information that can be the one chosen by the user\n",
      "\n"
     ]
    }
   ],
   "source": [
    "help(logic.Logic_module._discover_animal_with_simplified_order)"
   ]
  },
  {
   "cell_type": "markdown",
   "metadata": {},
   "source": [
    "this is a simplified order because the order is a simple sort of the weights calculated on the initial dataframes and saved, a complete ordering would recalculate the weights after every question on the dataframe snapshot generated by that question answer. (or we can just pre-calculate all and save on a binary search tree, with is a next step on the project)\n",
    "\n",
    "#### _animal_found\n",
    "\n",
    "Again, you know the drill:"
   ]
  },
  {
   "cell_type": "code",
   "execution_count": 11,
   "metadata": {},
   "outputs": [
    {
     "name": "stdout",
     "output_type": "stream",
     "text": [
      "Help on function _animal_found in module logic:\n",
      "\n",
      "_animal_found(self, name:str, answers_dict:dict)\n",
      "    Resolves the case when the animal was found, or by process of elimination or by input of the user\n",
      "    \n",
      "    Args:\n",
      "        name (str): the name of the animal\n",
      "        answers_dict (dict): a dict with the mapping of values to questions id who set the dataframe to this position\n",
      "\n"
     ]
    }
   ],
   "source": [
    "help(logic.Logic_module._animal_found)"
   ]
  },
  {
   "cell_type": "markdown",
   "metadata": {},
   "source": [
    "This is the function called when the game has only one valid animal on the dataframe snapshot and it hits the mark, or when he tried his luck and missed but the animal was on the database, he just didn't had enough info on it to make a correct prediction, but as this function updates the animal with the new data entered by the user responding the questions next time he will get it right.\n",
    "\n",
    "#### _animal_not_found\n",
    "\n",
    "Help page to the rescue:"
   ]
  },
  {
   "cell_type": "code",
   "execution_count": 12,
   "metadata": {},
   "outputs": [
    {
     "name": "stdout",
     "output_type": "stream",
     "text": [
      "Help on function _animal_not_found in module logic:\n",
      "\n",
      "_animal_not_found(self, answers_dict:dict)\n",
      "    Resolves the case when the animal could not be found by process of elimination\n",
      "    \n",
      "    Args:\n",
      "        answers_dict (dict): a dict with the mapping of values to questions id who set the dataframe to this position\n",
      "\n"
     ]
    }
   ],
   "source": [
    "help(logic.Logic_module._animal_not_found)"
   ]
  },
  {
   "cell_type": "markdown",
   "metadata": {},
   "source": [
    "this is the function called when the game gave up on finding the animal, it asks the user for the animal name and updates the database with this new data.\\\n",
    "(It may have lost the game, but it won new data, so in the end did he rly lost?)\n",
    "\n",
    "#### _ambiguous_animal_found\n",
    "\n",
    "and for the last time:"
   ]
  },
  {
   "cell_type": "code",
   "execution_count": 13,
   "metadata": {},
   "outputs": [
    {
     "name": "stdout",
     "output_type": "stream",
     "text": [
      "Help on function _ambiguous_animal_found in module logic:\n",
      "\n",
      "_ambiguous_animal_found(self, answers_dict:dict, number_of_valids:int)\n",
      "    Resolves case when more than one animal have the same values, are the only ones remaining and there is no more questions to differenciate then.\n",
      "    \n",
      "    Args:\n",
      "        answers_dict (dict): a dict with the mapping of values to questions id who set the dataframe to this position\n",
      "        number_of_valids (int): the number of animals with identical values left\n",
      "\n"
     ]
    }
   ],
   "source": [
    "help(logic.Logic_module._ambiguous_animal_found)"
   ]
  },
  {
   "cell_type": "markdown",
   "metadata": {},
   "source": [
    "this last function is a one of a kind, when 2 or more animals are left, but the remaining questions dont have data that can differentiate beetwen then, this is the funcion to call.\\\n",
    "It first asks what is the animal chosen by the player, then gives the player a opportunity to add a new characteristic of this animal, that will in turn be generated as another question, then it adds the question and updates or adds the animal."
   ]
  },
  {
   "cell_type": "markdown",
   "metadata": {},
   "source": [
    "---\n",
    "# IT'S ALIVE! AND (kinda) LEARNING! What now?\n",
    "---"
   ]
  },
  {
   "cell_type": "markdown",
   "metadata": {},
   "source": [
    "For +-10 hours of work on the project, IT WORKS!\\\n",
    "So what can we do now?\n",
    "\n",
    "The first thing is training more, at the moment the animal dataframe has:"
   ]
  },
  {
   "cell_type": "code",
   "execution_count": 14,
   "metadata": {},
   "outputs": [
    {
     "data": {
      "text/plain": [
       "21"
      ]
     },
     "execution_count": 14,
     "metadata": {},
     "output_type": "execute_result"
    }
   ],
   "source": [
    "len(animals_df)"
   ]
  },
  {
   "cell_type": "markdown",
   "metadata": {},
   "source": [
    "animals and the questions dataframe has:"
   ]
  },
  {
   "cell_type": "code",
   "execution_count": 15,
   "metadata": {},
   "outputs": [
    {
     "data": {
      "text/plain": [
       "9"
      ]
     },
     "execution_count": 15,
     "metadata": {},
     "output_type": "execute_result"
    }
   ],
   "source": [
    "len(questions_df)"
   ]
  },
  {
   "cell_type": "markdown",
   "metadata": {},
   "source": [
    "questions, so a long way to go...\n",
    "\n",
    "but after training a bit, we can get enough data to justify implementing a binary tree to save the weight of every snapshot (or for the first 20 or so if storage space is a delimiter) so we have faster predictions.\n",
    "\n",
    "And with the data gathered we can even implement questions skips based on the correlation coeficients with the already asked questions, for even faster predictions!"
   ]
  },
  {
   "cell_type": "code",
   "execution_count": 16,
   "metadata": {},
   "outputs": [
    {
     "data": {
      "text/html": [
       "<div>\n",
       "<style scoped>\n",
       "    .dataframe tbody tr th:only-of-type {\n",
       "        vertical-align: middle;\n",
       "    }\n",
       "\n",
       "    .dataframe tbody tr th {\n",
       "        vertical-align: top;\n",
       "    }\n",
       "\n",
       "    .dataframe thead th {\n",
       "        text-align: right;\n",
       "    }\n",
       "</style>\n",
       "<table border=\"1\" class=\"dataframe\">\n",
       "  <thead>\n",
       "    <tr style=\"text-align: right;\">\n",
       "      <th></th>\n",
       "      <th>id</th>\n",
       "      <th>text</th>\n",
       "      <th>order</th>\n",
       "      <th>weight</th>\n",
       "    </tr>\n",
       "  </thead>\n",
       "  <tbody>\n",
       "    <tr>\n",
       "      <th>1</th>\n",
       "      <td>q0</td>\n",
       "      <td>survives outside of water</td>\n",
       "      <td>0</td>\n",
       "      <td>0.476190</td>\n",
       "    </tr>\n",
       "    <tr>\n",
       "      <th>3</th>\n",
       "      <td>q1</td>\n",
       "      <td>has a fin</td>\n",
       "      <td>1</td>\n",
       "      <td>0.285714</td>\n",
       "    </tr>\n",
       "  </tbody>\n",
       "</table>\n",
       "</div>"
      ],
      "text/plain": [
       "   id                       text  order    weight\n",
       "1  q0  survives outside of water      0  0.476190\n",
       "3  q1                  has a fin      1  0.285714"
      ]
     },
     "metadata": {},
     "output_type": "display_data"
    },
    {
     "data": {
      "text/plain": [
       "-0.7171371656006367"
      ]
     },
     "execution_count": 16,
     "metadata": {},
     "output_type": "execute_result"
    }
   ],
   "source": [
    "display(questions_df[(questions_df.id == 'q0') | (questions_df.id == 'q1')])\n",
    "\n",
    "animals_df.q0.dropna().corr(animals_df.q1.dropna())"
   ]
  },
  {
   "cell_type": "markdown",
   "metadata": {},
   "source": [
    "because as we can see the question q0 and q1 have a pearson correlation coeficient of -0.717, we now know they have a strong inverse correlation.\\\n",
    "So is worth to ask if the animal has a fin right after it was already answered that he survives outside of water? The weight can be ajusted by that too...\n",
    "\n",
    "After some training we can get some neat info on what questions and animals the users insert, and get some fun insights like what mammals on the database are associated with nordic mythos:"
   ]
  },
  {
   "cell_type": "code",
   "execution_count": 17,
   "metadata": {},
   "outputs": [
    {
     "data": {
      "text/plain": [
       "11     wolf\n",
       "19     goat\n",
       "20    horse\n",
       "Name: name, dtype: object"
      ]
     },
     "execution_count": 17,
     "metadata": {},
     "output_type": "execute_result"
    }
   ],
   "source": [
    "animals_df.loc[(animals_df.q2 == 1) & (animals_df.q7 == 1), 'name']"
   ]
  },
  {
   "cell_type": "markdown",
   "metadata": {},
   "source": [
    "In the end:\\\n",
    "the possibilities are endless, but my time unfortunately is not, there are others projects to do and more information to learn, sometime later I will come back and revisit this one, but for now this was a good quick exercise.\n",
    "\n",
    "If you find this project and wants to use the Python code in here, its yours."
   ]
  }
 ],
 "metadata": {
  "kernelspec": {
   "display_name": "Python 3",
   "language": "python",
   "name": "python3"
  },
  "language_info": {
   "codemirror_mode": {
    "name": "ipython",
    "version": 3
   },
   "file_extension": ".py",
   "mimetype": "text/x-python",
   "name": "python",
   "nbconvert_exporter": "python",
   "pygments_lexer": "ipython3",
   "version": "3.6.9"
  }
 },
 "nbformat": 4,
 "nbformat_minor": 4
}
